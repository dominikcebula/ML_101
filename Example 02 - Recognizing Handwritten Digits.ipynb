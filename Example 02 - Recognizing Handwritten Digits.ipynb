{
 "cells": [
  {
   "cell_type": "code",
   "execution_count": 1,
   "metadata": {},
   "outputs": [],
   "source": [
    "%matplotlib inline"
   ]
  },
  {
   "cell_type": "markdown",
   "metadata": {},
   "source": [
    "\n",
    "# Recognizing hand-written digits\n",
    "\n",
    "\n",
    "An example showing how the scikit-learn can be used to recognize images of\n",
    "hand-written digits.\n",
    "\n",
    "This example is commented in the\n",
    "`tutorial section of the user manual <introduction>`.\n",
    "\n",
    "\n"
   ]
  },
  {
   "cell_type": "code",
   "execution_count": 2,
   "metadata": {},
   "outputs": [
    {
     "name": "stdout",
     "output_type": "stream",
     "text": [
      "Automatically created module for IPython interactive environment\n",
      "Classification report for classifier SVC(C=1.0, cache_size=200, class_weight=None, coef0=0.0,\n",
      "    decision_function_shape='ovr', degree=3, gamma=0.001, kernel='rbf',\n",
      "    max_iter=-1, probability=False, random_state=None, shrinking=True,\n",
      "    tol=0.001, verbose=False):\n",
      "              precision    recall  f1-score   support\n",
      "\n",
      "           0       1.00      1.00      1.00        88\n",
      "           1       1.00      1.00      1.00        91\n",
      "           2       1.00      1.00      1.00        86\n",
      "           3       0.99      1.00      0.99        91\n",
      "           4       1.00      1.00      1.00        92\n",
      "           5       1.00      1.00      1.00        91\n",
      "           6       1.00      1.00      1.00        91\n",
      "           7       1.00      1.00      1.00        89\n",
      "           8       1.00      1.00      1.00        88\n",
      "           9       1.00      0.99      0.99        92\n",
      "\n",
      "    accuracy                           1.00       899\n",
      "   macro avg       1.00      1.00      1.00       899\n",
      "weighted avg       1.00      1.00      1.00       899\n",
      "\n",
      "\n",
      "Confusion matrix:\n",
      "[[88  0  0  0  0  0  0  0  0  0]\n",
      " [ 0 91  0  0  0  0  0  0  0  0]\n",
      " [ 0  0 86  0  0  0  0  0  0  0]\n",
      " [ 0  0  0 91  0  0  0  0  0  0]\n",
      " [ 0  0  0  0 92  0  0  0  0  0]\n",
      " [ 0  0  0  0  0 91  0  0  0  0]\n",
      " [ 0  0  0  0  0  0 91  0  0  0]\n",
      " [ 0  0  0  0  0  0  0 89  0  0]\n",
      " [ 0  0  0  0  0  0  0  0 88  0]\n",
      " [ 0  0  0  1  0  0  0  0  0 91]]\n"
     ]
    },
    {
     "data": {
      "image/png": "[encoded data removed]",
      "text/plain": [
       "<Figure size 432x288 with 8 Axes>"
      ]
     },
     "metadata": {
      "needs_background": "light"
     },
     "output_type": "display_data"
    }
   ],
   "source": [
    "print(__doc__)\n",
    "\n",
    "# Author: Gael Varoquaux <gael dot varoquaux at normalesup dot org>\n",
    "# License: BSD 3 clause\n",
    "\n",
    "# Standard scientific Python imports\n",
    "import matplotlib.pyplot as plt\n",
    "\n",
    "# Import datasets, classifiers and performance metrics\n",
    "from sklearn import datasets, svm, metrics\n",
    "\n",
    "# The digits dataset\n",
    "digits = datasets.load_digits()\n",
    "\n",
    "# The data that we are interested in is made of 8x8 images of digits, let's\n",
    "# have a look at the first 4 images, stored in the `images` attribute of the\n",
    "# dataset.  If we were working from image files, we could load them using\n",
    "# matplotlib.pyplot.imread.  Note that each image must have the same size. For these\n",
    "# images, we know which digit they represent: it is given in the 'target' of\n",
    "# the dataset.\n",
    "images_and_labels = list(zip(digits.images, digits.target))\n",
    "for index, (image, label) in enumerate(images_and_labels[:4]):\n",
    "    plt.subplot(2, 4, index + 1)\n",
    "    plt.axis('off')\n",
    "    plt.imshow(image, cmap=plt.cm.gray_r, interpolation='nearest')\n",
    "    plt.title('Training: %i' % label)\n",
    "\n",
    "# To apply a classifier on this data, we need to flatten the image, to\n",
    "# turn the data in a (samples, feature) matrix:\n",
    "n_samples = len(digits.images)\n",
    "data = digits.images.reshape((n_samples, -1))\n",
    "\n",
    "# Create a classifier: a support vector classifier\n",
    "# https://scikit-learn.org/stable/modules/svm.html#svc\n",
    "classifier = svm.SVC(gamma=0.001)\n",
    "\n",
    "# We learn the digits on the first half of the digits\n",
    "#classifier.fit(data[:n_samples // 2:], digits.target[:n_samples // 2:])\n",
    "\n",
    "# for this example we will learn on entire data set for \n",
    "# custom images recongition below, this does not make sense for \n",
    "# model accuracy measurement, however is required for custom image recgnition\n",
    "# because of limited data set\n",
    "classifier.fit(data[:n_samples], digits.target[:n_samples])\n",
    "\n",
    "# Now predict the value of the digit on the second half:\n",
    "expected = digits.target[n_samples // 2:]\n",
    "predicted = classifier.predict(data[n_samples // 2:])\n",
    "\n",
    "print(\"Classification report for classifier %s:\\n%s\\n\"\n",
    "      % (classifier, metrics.classification_report(expected, predicted)))\n",
    "print(\"Confusion matrix:\\n%s\" % metrics.confusion_matrix(expected, predicted))\n",
    "\n",
    "images_and_predictions = list(zip(digits.images[n_samples // 2:], predicted))\n",
    "for index, (image, prediction) in enumerate(images_and_predictions[:4]):\n",
    "    plt.subplot(2, 4, index + 5)\n",
    "    plt.axis('off')\n",
    "    plt.imshow(image, cmap=plt.cm.gray_r, interpolation='nearest')\n",
    "    plt.title('Prediction: %i' % prediction)\n",
    "\n",
    "plt.show()"
   ]
  },
  {
   "cell_type": "markdown",
   "metadata": {},
   "source": [
    "# Routines to prepare digit image for recognition"
   ]
  },
  {
   "cell_type": "code",
   "execution_count": 3,
   "metadata": {},
   "outputs": [],
   "source": [
    "import matplotlib.image as mpimg\n",
    "import numpy as np\n",
    "from PIL import Image, ImageChops\n",
    "\n",
    "def rgb2gray(rgb):\n",
    "    return np.dot(rgb[...,:3], [0.299, 0.587, 0.114])\n",
    "\n",
    "def auto_crop(image_file_path):\n",
    "    cropped_image_file_path = f'{image_file_path}_cropped.png'\n",
    "    \n",
    "    img = Image.open(image_file_path)\n",
    "    \n",
    "    print('Image - original')\n",
    "    display(img)\n",
    "    \n",
    "    bg = Image.new(img.mode, img.size, img.getpixel((0,0)))\n",
    "    diff = ImageChops.difference(img, bg)\n",
    "    diff = ImageChops.add(diff, diff, 2.0, -100)\n",
    "    bbox = diff.getbbox()\n",
    "    img_cropped = img.crop(bbox)\n",
    "    \n",
    "    print('Image - cropped')\n",
    "    display(img_cropped)\n",
    "    \n",
    "    img_cropped.save(cropped_image_file_path)\n",
    "    \n",
    "    return cropped_image_file_path\n",
    "    \n",
    "def scale_image(image_file_path):\n",
    "    scaled_image_file_path = f'{image_file_path}_8x8.png'\n",
    "    \n",
    "    img = Image.open(image_file_path)    \n",
    "    img = img.resize([8, 8], Image.LANCZOS)\n",
    "    img.save(scaled_image_file_path)\n",
    "    \n",
    "    return scaled_image_file_path\n",
    "\n",
    "def recognize_digit(image_file_path):\n",
    "    cropped_image_file_path = auto_crop(image_file_path)\n",
    "    scaled_image_file_path = scale_image(image_file_path)\n",
    "    \n",
    "    img = mpimg.imread(scaled_image_file_path)\n",
    "    gray = rgb2gray(img)\n",
    "    a=(16-gray*16).astype(int) # really weird here, but try to convert to 0..16\n",
    "    print('Image - scaled, cropped and in gray scale')\n",
    "    plt.imshow(a, cmap = plt.get_cmap('gray_r'))    \n",
    "    plt.show()\n",
    "    \n",
    "    img_data = a.flatten().reshape(1, -1)\n",
    "    print('Image - vector')\n",
    "    print(img_data)\n",
    "    \n",
    "    predicted = classifier.predict(img_data)\n",
    "    print(f'Recognized digit is = {predicted}')"
   ]
  },
  {
   "cell_type": "markdown",
   "metadata": {},
   "source": [
    "# Recognize custom images"
   ]
  },
  {
   "cell_type": "markdown",
   "metadata": {},
   "source": [
    "## Reconize number 1"
   ]
  },
  {
   "cell_type": "code",
   "execution_count": 4,
   "metadata": {},
   "outputs": [
    {
     "name": "stdout",
     "output_type": "stream",
     "text": [
      "Image - original\n"
     ]
    },
    {
     "data": {
      "image/png": "[encoded data removed]",
      "text/plain": [
       "<PIL.PngImagePlugin.PngImageFile image mode=RGB size=200x200 at 0x1E0AFD98710>"
      ]
     },
     "metadata": {},
     "output_type": "display_data"
    },
    {
     "name": "stdout",
     "output_type": "stream",
     "text": [
      "Image - cropped\n"
     ]
    },
    {
     "data": {
      "image/png": "[encoded data removed]",
      "text/plain": [
       "<PIL.Image.Image image mode=RGB size=71x186 at 0x1E0AFD98BA8>"
      ]
     },
     "metadata": {},
     "output_type": "display_data"
    },
    {
     "name": "stdout",
     "output_type": "stream",
     "text": [
      "Image - scaled, cropped and in gray scale\n"
     ]
    },
    {
     "data": {
      "image/png": "[encoded data removed]",
      "text/plain": [
       "<Figure size 432x288 with 1 Axes>"
      ]
     },
     "metadata": {
      "needs_background": "light"
     },
     "output_type": "display_data"
    },
    {
     "name": "stdout",
     "output_type": "stream",
     "text": [
      "Image - vector\n",
      "[[0 0 0 1 3 0 0 0 0 0 2 4 3 0 0 0 0 0 2 0 3 0 0 0 0 0 0 0 3 0 0 0 0 0 0 0\n",
      "  3 0 0 0 0 0 0 0 3 0 0 0 0 0 0 0 3 0 0 0 0 0 0 0 2 0 0 0]]\n",
      "Recognized digit is = [1]\n"
     ]
    }
   ],
   "source": [
    "recognize_digit('Example02/Digits/01.png')"
   ]
  },
  {
   "cell_type": "markdown",
   "metadata": {},
   "source": [
    "## Reconize number 4"
   ]
  },
  {
   "cell_type": "code",
   "execution_count": 5,
   "metadata": {},
   "outputs": [
    {
     "name": "stdout",
     "output_type": "stream",
     "text": [
      "Image - original\n"
     ]
    },
    {
     "data": {
      "image/png": "[encoded data removed]",
      "text/plain": [
       "<PIL.PngImagePlugin.PngImageFile image mode=RGBA size=200x200 at 0x1E0B2B08C50>"
      ]
     },
     "metadata": {},
     "output_type": "display_data"
    },
    {
     "name": "stdout",
     "output_type": "stream",
     "text": [
      "Image - cropped\n"
     ]
    },
    {
     "data": {
      "image/png": "[encoded data removed]",
      "text/plain": [
       "<PIL.Image.Image image mode=RGBA size=130x177 at 0x1E0B2B089B0>"
      ]
     },
     "metadata": {},
     "output_type": "display_data"
    },
    {
     "name": "stdout",
     "output_type": "stream",
     "text": [
      "Image - scaled, cropped and in gray scale\n"
     ]
    },
    {
     "data": {
      "image/png": "[encoded data removed]",
      "text/plain": [
       "<Figure size 432x288 with 1 Axes>"
      ]
     },
     "metadata": {
      "needs_background": "light"
     },
     "output_type": "display_data"
    },
    {
     "name": "stdout",
     "output_type": "stream",
     "text": [
      "Image - vector\n",
      "[[0 0 0 0 2 0 0 0 0 0 0 2 1 0 0 0 0 0 0 3 0 0 0 0 0 0 3 0 0 0 0 0 0 3 2 1\n",
      "  3 3 0 0 1 3 2 1 3 0 0 0 0 0 0 0 2 0 0 0 0 0 0 0 0 0 0 0]]\n",
      "Recognized digit is = [4]\n"
     ]
    }
   ],
   "source": [
    "recognize_digit('Example02/Digits/04.png')"
   ]
  },
  {
   "cell_type": "markdown",
   "metadata": {},
   "source": [
    "## Reconize number 9"
   ]
  },
  {
   "cell_type": "code",
   "execution_count": 6,
   "metadata": {},
   "outputs": [
    {
     "name": "stdout",
     "output_type": "stream",
     "text": [
      "Image - original\n"
     ]
    },
    {
     "data": {
      "image/png": "[encoded data removed]",
      "text/plain": [
       "<PIL.PngImagePlugin.PngImageFile image mode=RGBA size=200x200 at 0x1E0B2B59EB8>"
      ]
     },
     "metadata": {},
     "output_type": "display_data"
    },
    {
     "name": "stdout",
     "output_type": "stream",
     "text": [
      "Image - cropped\n"
     ]
    },
    {
     "data": {
      "image/png": "[encoded data removed]",
      "text/plain": [
       "<PIL.Image.Image image mode=RGBA size=123x181 at 0x1E0B2B59D68>"
      ]
     },
     "metadata": {},
     "output_type": "display_data"
    },
    {
     "name": "stdout",
     "output_type": "stream",
     "text": [
      "Image - scaled, cropped and in gray scale\n"
     ]
    },
    {
     "data": {
      "image/png": "[encoded data removed]",
      "text/plain": [
       "<Figure size 432x288 with 1 Axes>"
      ]
     },
     "metadata": {
      "needs_background": "light"
     },
     "output_type": "display_data"
    },
    {
     "name": "stdout",
     "output_type": "stream",
     "text": [
      "Image - vector\n",
      "[[0 0 2 3 3 0 0 0 0 0 2 0 1 2 0 0 0 0 2 0 1 2 0 0 0 0 2 2 3 2 0 0 0 0 0 0\n",
      "  1 1 0 0 1 0 0 0 2 0 0 0 1 2 0 2 2 0 0 0 0 1 2 2 0 0 0 0]]\n",
      "Recognized digit is = [9]\n"
     ]
    }
   ],
   "source": [
    "recognize_digit('Example02/Digits/09.png')"
   ]
  },
  {
   "cell_type": "code",
   "execution_count": null,
   "metadata": {},
   "outputs": [],
   "source": []
  }
 ],
 "metadata": {
  "kernelspec": {
   "display_name": "Python 3",
   "language": "python",
   "name": "python3"
  },
  "language_info": {
   "codemirror_mode": {
    "name": "ipython",
    "version": 3
   },
   "file_extension": ".py",
   "mimetype": "text/x-python",
   "name": "python",
   "nbconvert_exporter": "python",
   "pygments_lexer": "ipython3",
   "version": "3.7.3"
  }
 },
 "nbformat": 4,
 "nbformat_minor": 1
}
